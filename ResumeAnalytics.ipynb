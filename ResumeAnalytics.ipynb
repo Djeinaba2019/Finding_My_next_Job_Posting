{
 "cells": [
  {
   "cell_type": "code",
   "execution_count": 1,
   "id": "d528ed64-62a3-42a3-8d12-4328a5ec8585",
   "metadata": {},
   "outputs": [],
   "source": [
    "from pyspark.sql import SparkSession\n",
    "from pyspark.sql.functions import *\n",
    "from pyspark.sql.types import StringType,StructField, StructType, ArrayType\n",
    "import json"
   ]
  },
  {
   "cell_type": "code",
   "execution_count": 2,
   "id": "246bf220-606d-454c-abe5-7d6b7a6a7985",
   "metadata": {
    "collapsed": true,
    "jupyter": {
     "outputs_hidden": true
    },
    "tags": []
   },
   "outputs": [
    {
     "name": "stderr",
     "output_type": "stream",
     "text": [
      "22/01/20 09:10:05 WARN Utils: Your hostname, djeinaba-HP-Laptop-15-bs1xx resolves to a loopback address: 127.0.0.1; using 10.11.7.230 instead (on interface wlo1)\n",
      "22/01/20 09:10:05 WARN Utils: Set SPARK_LOCAL_IP if you need to bind to another address\n",
      "WARNING: An illegal reflective access operation has occurred\n",
      "WARNING: Illegal reflective access by org.apache.spark.unsafe.Platform (file:/home/djeinaba/Bureau/Classroom%20INSA%20EM/Classroom%20S9/Projet_s9/spark/lib/python3.8/site-packages/pyspark/jars/spark-unsafe_2.12-3.2.0.jar) to constructor java.nio.DirectByteBuffer(long,int)\n",
      "WARNING: Please consider reporting this to the maintainers of org.apache.spark.unsafe.Platform\n",
      "WARNING: Use --illegal-access=warn to enable warnings of further illegal reflective access operations\n",
      "WARNING: All illegal access operations will be denied in a future release\n"
     ]
    },
    {
     "name": "stdout",
     "output_type": "stream",
     "text": [
      ":: loading settings :: url = jar:file:/home/djeinaba/Bureau/Classroom%20INSA%20EM/Classroom%20S9/Projet_s9/spark/lib/python3.8/site-packages/pyspark/jars/ivy-2.5.0.jar!/org/apache/ivy/core/settings/ivysettings.xml\n"
     ]
    },
    {
     "name": "stderr",
     "output_type": "stream",
     "text": [
      "Ivy Default Cache set to: /home/djeinaba/.ivy2/cache\n",
      "The jars for the packages stored in: /home/djeinaba/.ivy2/jars\n",
      "org.apache.spark#spark-sql-kafka-0-10_2.12 added as a dependency\n",
      ":: resolving dependencies :: org.apache.spark#spark-submit-parent-f28a369f-d83c-4da3-bbb7-3f5a628c0b44;1.0\n",
      "\tconfs: [default]\n",
      "\tfound org.apache.spark#spark-sql-kafka-0-10_2.12;3.2.0 in central\n",
      "\tfound org.apache.spark#spark-token-provider-kafka-0-10_2.12;3.2.0 in central\n",
      "\tfound org.apache.kafka#kafka-clients;2.8.0 in local-m2-cache\n",
      "\tfound org.lz4#lz4-java;1.7.1 in local-m2-cache\n",
      "\tfound org.xerial.snappy#snappy-java;1.1.8.4 in central\n",
      "\tfound org.slf4j#slf4j-api;1.7.30 in local-m2-cache\n",
      "\tfound org.apache.hadoop#hadoop-client-runtime;3.3.1 in central\n",
      "\tfound org.spark-project.spark#unused;1.0.0 in local-m2-cache\n",
      "\tfound org.apache.hadoop#hadoop-client-api;3.3.1 in central\n",
      "\tfound org.apache.htrace#htrace-core4;4.1.0-incubating in local-m2-cache\n",
      "\tfound commons-logging#commons-logging;1.1.3 in local-m2-cache\n",
      "\tfound com.google.code.findbugs#jsr305;3.0.0 in local-m2-cache\n",
      "\tfound org.apache.commons#commons-pool2;2.6.2 in local-m2-cache\n",
      ":: resolution report :: resolve 432ms :: artifacts dl 28ms\n",
      "\t:: modules in use:\n",
      "\tcom.google.code.findbugs#jsr305;3.0.0 from local-m2-cache in [default]\n",
      "\tcommons-logging#commons-logging;1.1.3 from local-m2-cache in [default]\n",
      "\torg.apache.commons#commons-pool2;2.6.2 from local-m2-cache in [default]\n",
      "\torg.apache.hadoop#hadoop-client-api;3.3.1 from central in [default]\n",
      "\torg.apache.hadoop#hadoop-client-runtime;3.3.1 from central in [default]\n",
      "\torg.apache.htrace#htrace-core4;4.1.0-incubating from local-m2-cache in [default]\n",
      "\torg.apache.kafka#kafka-clients;2.8.0 from local-m2-cache in [default]\n",
      "\torg.apache.spark#spark-sql-kafka-0-10_2.12;3.2.0 from central in [default]\n",
      "\torg.apache.spark#spark-token-provider-kafka-0-10_2.12;3.2.0 from central in [default]\n",
      "\torg.lz4#lz4-java;1.7.1 from local-m2-cache in [default]\n",
      "\torg.slf4j#slf4j-api;1.7.30 from local-m2-cache in [default]\n",
      "\torg.spark-project.spark#unused;1.0.0 from local-m2-cache in [default]\n",
      "\torg.xerial.snappy#snappy-java;1.1.8.4 from central in [default]\n",
      "\t---------------------------------------------------------------------\n",
      "\t|                  |            modules            ||   artifacts   |\n",
      "\t|       conf       | number| search|dwnlded|evicted|| number|dwnlded|\n",
      "\t---------------------------------------------------------------------\n",
      "\t|      default     |   13  |   0   |   0   |   0   ||   13  |   0   |\n",
      "\t---------------------------------------------------------------------\n",
      ":: retrieving :: org.apache.spark#spark-submit-parent-f28a369f-d83c-4da3-bbb7-3f5a628c0b44\n",
      "\tconfs: [default]\n",
      "\t0 artifacts copied, 13 already retrieved (0kB/11ms)\n",
      "22/01/20 09:10:07 WARN NativeCodeLoader: Unable to load native-hadoop library for your platform... using builtin-java classes where applicable\n",
      "Using Spark's default log4j profile: org/apache/spark/log4j-defaults.properties\n",
      "Setting default log level to \"WARN\".\n",
      "To adjust logging level use sc.setLogLevel(newLevel). For SparkR, use setLogLevel(newLevel).\n"
     ]
    }
   ],
   "source": [
    "spark = (SparkSession.builder.appName(\"ResumeProcessing\")\\\n",
    "                    .config('spark.jars.packages', 'org.apache.spark:spark-sql-kafka-0-10_2.12:3.2.0').getOrCreate())"
   ]
  },
  {
   "cell_type": "code",
   "execution_count": 3,
   "id": "b51a0c41-71f8-4e74-a50f-edc84d169b57",
   "metadata": {},
   "outputs": [],
   "source": [
    "df = spark \\\n",
    "    .readStream \\\n",
    "    .format(\"kafka\") \\\n",
    "    .option(\"kafka.bootstrap.servers\", \"localhost:9092\") \\\n",
    "    .option(\"subscribe\", \"INDEED\") \\\n",
    "    .option(\"startingOffsets\",\"earliest\") \\\n",
    "    .load()"
   ]
  },
  {
   "cell_type": "code",
   "execution_count": 4,
   "id": "a3b02553-4ce4-4527-b6cb-2611de1a13e4",
   "metadata": {},
   "outputs": [
    {
     "name": "stdout",
     "output_type": "stream",
     "text": [
      "root\n",
      " |-- key: binary (nullable = true)\n",
      " |-- value: binary (nullable = true)\n",
      " |-- topic: string (nullable = true)\n",
      " |-- partition: integer (nullable = true)\n",
      " |-- offset: long (nullable = true)\n",
      " |-- timestamp: timestamp (nullable = true)\n",
      " |-- timestampType: integer (nullable = true)\n",
      "\n"
     ]
    }
   ],
   "source": [
    "df.printSchema()"
   ]
  },
  {
   "cell_type": "code",
   "execution_count": 5,
   "id": "7cc54120-d6b6-4b2e-8739-6b3a9ed0278e",
   "metadata": {},
   "outputs": [],
   "source": [
    "lines = df.selectExpr(\"CAST(value AS STRING)\")"
   ]
  },
  {
   "cell_type": "code",
   "execution_count": 6,
   "id": "67055141-25d4-430f-9e3d-28940667d751",
   "metadata": {
    "tags": []
   },
   "outputs": [],
   "source": [
    "schema =StructType([StructField(\"companies\", StringType(),True),\n",
    "                           StructField(\"job_title\", StringType(),True),\n",
    "                           StructField(\"job_type\",StringType(),True),\n",
    "                           StructField(\"job_Description\", StringType(),True),\n",
    "                           StructField(\"job_link\", StringType(),True),\n",
    "                           ])"
   ]
  },
  {
   "cell_type": "code",
   "execution_count": 7,
   "id": "66e33145-7a7f-4761-97b9-a3c831f486b7",
   "metadata": {
    "tags": []
   },
   "outputs": [],
   "source": [
    "data_lines = lines.select(from_json(col(\"value\"), schema).alias(\"data\")).select(\"data.*\")"
   ]
  },
  {
   "cell_type": "code",
   "execution_count": 8,
   "id": "b6d1fcf9-03bc-4211-9b6e-8bbac661efd7",
   "metadata": {
    "tags": []
   },
   "outputs": [
    {
     "name": "stderr",
     "output_type": "stream",
     "text": [
      "22/01/20 09:10:32 WARN ResolveWriteToStream: Temporary checkpoint location created which is deleted normally when the query didn't fail: /tmp/temporary-7ba645e7-09e9-493d-9bf5-53654df96cf3. If it's required to delete it under any circumstances, please set spark.sql.streaming.forceDeleteTempCheckpointLocation to true. Important to know deleting temp checkpoint folder is best effort.\n",
      "22/01/20 09:10:32 WARN ResolveWriteToStream: spark.sql.adaptive.enabled is not supported in streaming DataFrames/Datasets and will be disabled.\n"
     ]
    },
    {
     "data": {
      "text/plain": [
       "False"
      ]
     },
     "execution_count": 8,
     "metadata": {},
     "output_type": "execute_result"
    },
    {
     "name": "stderr",
     "output_type": "stream",
     "text": [
      "                                                                                \r"
     ]
    }
   ],
   "source": [
    "data_agg_write_stream = data_lines \\\n",
    "        .writeStream \\\n",
    "        .trigger(processingTime='60 seconds') \\\n",
    "        .outputMode(\"append\") \\\n",
    "        .option(\"truncate\", \"false\") \\\n",
    "        .format(\"memory\") \\\n",
    "        .queryName(\"jobPostTable\") \\\n",
    "        .start()\n",
    "\n",
    "data_agg_write_stream.awaitTermination(1)"
   ]
  },
  {
   "cell_type": "code",
   "execution_count": 9,
   "id": "b22767e3-7cd8-4b05-bd92-4c58c3534c10",
   "metadata": {
    "tags": []
   },
   "outputs": [],
   "source": [
    "jobPosting_df = spark.sql('SELECT * FROM JobPostTable')"
   ]
  },
  {
   "cell_type": "code",
   "execution_count": 10,
   "id": "b0ae8976-fc05-4d20-a3a0-0ea32f187e5d",
   "metadata": {
    "tags": []
   },
   "outputs": [
    {
     "name": "stdout",
     "output_type": "stream",
     "text": [
      "+--------------------+--------------------+--------+--------------------+--------------------+\n",
      "|           companies|           job_title|job_type|     job_Description|            job_link|\n",
      "+--------------------+--------------------+--------+--------------------+--------------------+\n",
      "|             Spotify|Summer Internship...|    None|Students\\nWe are ...|https://www.indee...|\n",
      "|           pulseData|Data Science Inte...|    None|pulseData is chan...|https://www.indee...|\n",
      "|ZM Financial Systems|2021 Fall Interns...|    None|BREAKTHROUGH toge...|https://www.indee...|\n",
      "|Major League Base...|2022 Summer Inter...|    None|The Major League ...|https://www.indee...|\n",
      "|New York Life Ins...|NYL Data Scientis...|    None|A career at New Y...|https://www.indee...|\n",
      "|              PayPal| Data Science Intern|    None|Who we are: At Pa...|https://www.indee...|\n",
      "|             Quizlet|Database Reliabil...|    None|Inspired by our b...|https://www.indee...|\n",
      "|Simpson Gumpertz ...|2022 Internship/C...|    None|Do you want to he...|https://www.indee...|\n",
      "|          MasterCard|Products & Engine...|    None|Our Purpose\\nWe w...|https://www.indee...|\n",
      "|             Quizlet|Product Managemen...|    None|Inspired by our b...|https://www.indee...|\n",
      "|  The New York Times|Summer 2022 Inter...|    None|The mission of Th...|https://www.indee...|\n",
      "|                AT&T|AT&T Labs Interns...|    None|At AT&T, we’re co...|https://www.indee...|\n",
      "|             Spotify|Summer Internship...|    None|Students\\nWe are ...|https://www.indee...|\n",
      "|                Etsy|Software Engineer...|    None|Company Descripti...|https://www.indee...|\n",
      "|               Braze|Software Engineer...|    None|WHO WE ARE\\nBraze...|https://www.indee...|\n",
      "+--------------------+--------------------+--------+--------------------+--------------------+\n",
      "\n"
     ]
    }
   ],
   "source": [
    "jobPosting_df.show()"
   ]
  },
  {
   "cell_type": "markdown",
   "id": "8e1426ba-92d9-4f02-aa52-c23ef1a34caf",
   "metadata": {},
   "source": [
    "## Analyse de Mon CV et création de mon profil"
   ]
  },
  {
   "cell_type": "markdown",
   "id": "07ebf957-9c97-48cb-847b-9798d0759a82",
   "metadata": {},
   "source": [
    "### 1.Extraction du text du CV"
   ]
  },
  {
   "cell_type": "code",
   "execution_count": 11,
   "id": "5e16929a-67b4-4319-ae42-327ec31f7a28",
   "metadata": {},
   "outputs": [],
   "source": [
    "import os\n",
    "from os import listdir\n",
    "from os.path import isfile, join\n",
    "from io import StringIO\n",
    "import pandas as pd"
   ]
  },
  {
   "cell_type": "code",
   "execution_count": 12,
   "id": "ebbf994d-8ee2-498f-991f-3126bfa96044",
   "metadata": {},
   "outputs": [],
   "source": [
    "file_path='/home/djeinaba/Bureau/my-resume.pdf'\n",
    "my_resume = os.path.join(file_path)"
   ]
  },
  {
   "cell_type": "code",
   "execution_count": 13,
   "id": "3d00ea55-e2e2-4b61-aeda-3f5681472f0c",
   "metadata": {},
   "outputs": [],
   "source": [
    "from pdfminer.high_level import extract_text\n",
    "\n",
    "def extract_text_from_pdf(pdf_path):\n",
    "    return extract_text(pdf_path)"
   ]
  },
  {
   "cell_type": "code",
   "execution_count": 14,
   "id": "16241d3c-9cc8-427b-a4a8-5e8935c55b79",
   "metadata": {},
   "outputs": [],
   "source": [
    "extracted_data=extract_text_from_pdf(os.path.join(file_path))"
   ]
  },
  {
   "cell_type": "markdown",
   "id": "3bc422c9-d8f7-412f-a2bd-79d4089f5408",
   "metadata": {},
   "source": [
    "### 2.Création d'un dataframe contenant mes données"
   ]
  },
  {
   "cell_type": "code",
   "execution_count": 15,
   "id": "a7e37ada-6eee-4141-ad0b-fd0825ea6026",
   "metadata": {},
   "outputs": [],
   "source": [
    "my_resume_data = pd.DataFrame(columns=[\"candidate_name\", \"text\"])"
   ]
  },
  {
   "cell_type": "code",
   "execution_count": 16,
   "id": "970b790e-8822-4f02-8b3c-902f7ffac872",
   "metadata": {},
   "outputs": [],
   "source": [
    "my_resume_data[\"candidate_name\"]=[\"Djeinaba\"]\n",
    "my_resume_data[\"text\"]=[extracted_data]"
   ]
  },
  {
   "cell_type": "code",
   "execution_count": 17,
   "id": "0fd4669f-a3ab-48f5-ba10-1a0096b11d41",
   "metadata": {},
   "outputs": [
    {
     "data": {
      "text/plain": [
       "0    Profile\\n\\nDJEINABA BA\\nStudent in Data \\nEngi...\n",
       "Name: text, dtype: object"
      ]
     },
     "execution_count": 17,
     "metadata": {},
     "output_type": "execute_result"
    }
   ],
   "source": [
    "my_resume_data[\"text\"]"
   ]
  },
  {
   "cell_type": "markdown",
   "id": "36d158c3-6ede-40bc-9df6-ac9d94d1958b",
   "metadata": {},
   "source": [
    "### 3.Création du profil"
   ]
  },
  {
   "cell_type": "code",
   "execution_count": 18,
   "id": "36c96736-ab30-44ae-9f6f-f7ec0e62b98e",
   "metadata": {},
   "outputs": [],
   "source": [
    "from collections import Counter\n",
    "import matplotlib.pyplot as plt"
   ]
  },
  {
   "cell_type": "code",
   "execution_count": 19,
   "id": "32c062be-90df-4824-99d2-bc2bdb97376f",
   "metadata": {},
   "outputs": [],
   "source": [
    "def create_profile(nlp, matcher,text,application_subject):\n",
    "\t# obtenir le matching pour les mots du text\n",
    "\tdoc = nlp(text)\n",
    "\tmatches = matcher(doc)\n",
    "\t\n",
    "\t\n",
    "\td = []\n",
    "\tfor match_id, start, end in matches:\n",
    "\t\trule_id = nlp.vocab.strings[match_id]  #pour obtenir les compétences\n",
    "\t\tspan = doc[start : end]  # pour obtenir les sous compétences\n",
    "\t\td.append((rule_id, span.text))\n",
    "\tdata = []\n",
    "\tfor each,count in Counter(d).items():\n",
    "\t\tdata.append([application_subject,*each,count])\n",
    "\tdataf = pd.DataFrame(data,columns=['Company/Candidate Name','Skill','Sub-skill','Count'])\n",
    "\treturn(dataf)"
   ]
  },
  {
   "cell_type": "code",
   "execution_count": 20,
   "id": "0ad4573b-981b-4f91-a6b7-634ca0ce2de6",
   "metadata": {},
   "outputs": [],
   "source": [
    "def plot_df(final_database):\n",
    "\t\"\"\"\n",
    "\tThis function simply plots the final\n",
    "\tplot for skill analysis\n",
    "\tAnd also saves the final png file\n",
    "\t:param final_database: dataframe of employees/JD and skills\n",
    "\t:output 1: saves a png file\n",
    "\t:output 2: saves a final excel sheet \n",
    "\t\"\"\"\n",
    "\n",
    "\tfinal_database2 = final_database['Sub-skill'].groupby([final_database['Company/Candidate Name'], final_database['Skill']]).count().unstack()\n",
    "\tfinal_database2.reset_index(inplace = True)\n",
    "\tfinal_database2.fillna(0,inplace=True)\n",
    "\tnew_data = final_database2.iloc[:,1:]\n",
    "\tnew_data.index = final_database2['Company/Candidate Name']\n",
    "\t\n",
    "\t# Execute the below line if you want to see the JD profile in a csv format\n",
    "\tnew_data.to_csv('skillset.csv')\n",
    "\t\n",
    "\tplt.rcParams.update({'font.size': 8\t})\n",
    "\tax = new_data.plot.barh(title=\"JD/Resume keywords by category\", legend=True, figsize=(25,7), stacked=True)\n",
    "\tlabels = []\n",
    "\tfor j in new_data.columns:\n",
    "\t\tfor i in new_data.index:\n",
    "\t\t\tlabel = str(j)+\": \" + str(new_data.loc[i][j])\n",
    "\t\t\tlabels.append(label)\n",
    "\tpatches = ax.patches\n",
    "\tfor label, rect in zip(labels, patches):\n",
    "\t\twidth = rect.get_width()\n",
    "\t\tif width > 0:\n",
    "\t\t\tx = rect.get_x()\n",
    "\t\t\ty = rect.get_y()\n",
    "\t\t\theight = rect.get_height()\n",
    "\t\t\tax.text(x + width/2., y + height/2., label, ha='center', va='center')\n",
    "\tplt.savefig('graph.png')\n",
    "\tplt.show()"
   ]
  },
  {
   "cell_type": "code",
   "execution_count": 21,
   "id": "7aa1e1ed-c4f0-4994-ab2c-5d144812ad1a",
   "metadata": {},
   "outputs": [],
   "source": [
    "from spacy.matcher import PhraseMatcher\n",
    "\n",
    "def init_parser_func(nlp, SKILL_FILE_PATH, file_type = 'csv'):\n",
    "\n",
    "\n",
    "    if file_type == 'csv':\n",
    "        keyword_ = pd.read_csv(SKILL_FILE_PATH)\n",
    "    else:\n",
    "        try:\n",
    "            keyword_ = pd.read_excel(SKILL_FILE_PATH)\n",
    "            print(\"Success!\")\n",
    "        except Exception as e:\n",
    "            print(e)\n",
    "\n",
    "    matcher = PhraseMatcher(nlp.vocab)\n",
    "    for each in keyword_.columns: \n",
    "        matcher.add(each, None, *[nlp(text) for text in keyword_[each].dropna(axis = 0)])\n",
    "\n",
    "    return matcher"
   ]
  },
  {
   "cell_type": "code",
   "execution_count": 22,
   "id": "b61a480d-d566-49aa-84da-56887f3345c2",
   "metadata": {},
   "outputs": [],
   "source": [
    "import spacy\n",
    "nlp = spacy.load('en_core_web_sm')"
   ]
  },
  {
   "cell_type": "code",
   "execution_count": 23,
   "id": "912c1663-251b-4fba-a549-9b6dacd1682e",
   "metadata": {},
   "outputs": [
    {
     "name": "stdout",
     "output_type": "stream",
     "text": [
      "Success!\n"
     ]
    },
    {
     "name": "stderr",
     "output_type": "stream",
     "text": [
      "100%|███████████████████████████████████████████| 15/15 [00:01<00:00, 10.63it/s]\n"
     ]
    },
    {
     "data": {
      "image/png": "[encoded data removed]",
      "text/plain": [
       "<Figure size 1800x504 with 1 Axes>"
      ]
     },
     "metadata": {
      "needs_background": "light"
     },
     "output_type": "display_data"
    }
   ],
   "source": [
    "from tqdm import tqdm\n",
    "SKILL_FILE_PATH = \"Skillset.xlsx\"\n",
    "\n",
    "matcher = init_parser_func(nlp, SKILL_FILE_PATH, file_type=\"excel\")\n",
    "\n",
    "final_database = pd.DataFrame()\n",
    "df = jobPosting_df.toPandas()\n",
    "\n",
    "\n",
    "for each in tqdm(range(len(df))):\n",
    "\n",
    "\ttext = df.loc[each,'job_Description']\n",
    "\tapplication_subject = df.loc[each,'companies']\n",
    "\tdata = create_profile(nlp,matcher,text,application_subject)\n",
    "\tfinal_database = final_database.append(data)\n",
    "\n",
    "\t# Saving the database\n",
    "final_database.to_csv('Data.csv', index=False)\n",
    "\n",
    "# Plot the final figures\n",
    "plot_df(final_database)\n",
    " "
   ]
  },
  {
   "cell_type": "code",
   "execution_count": 24,
   "id": "17839897-eec8-4a54-b915-affa9f88435b",
   "metadata": {
    "tags": []
   },
   "outputs": [
    {
     "data": {
      "text/plain": [
       "DataFrame[job_Description: string]"
      ]
     },
     "execution_count": 24,
     "metadata": {},
     "output_type": "execute_result"
    }
   ],
   "source": []
  },
  {
   "cell_type": "code",
   "execution_count": null,
   "id": "f1908a16-abe1-4396-bbc8-4a7871cb8a0e",
   "metadata": {},
   "outputs": [],
   "source": []
  },
  {
   "cell_type": "code",
   "execution_count": null,
   "id": "570c2d1f-50f5-4d41-8b2e-3c3ae7f2a4fc",
   "metadata": {},
   "outputs": [],
   "source": []
  }
 ],
 "metadata": {
  "kernelspec": {
   "display_name": "Python 3 (ipykernel)",
   "language": "python",
   "name": "python3"
  },
  "language_info": {
   "codemirror_mode": {
    "name": "ipython",
    "version": 3
   },
   "file_extension": ".py",
   "mimetype": "text/x-python",
   "name": "python",
   "nbconvert_exporter": "python",
   "pygments_lexer": "ipython3",
   "version": "3.10.6"
  }
 },
 "nbformat": 4,
 "nbformat_minor": 5
}
